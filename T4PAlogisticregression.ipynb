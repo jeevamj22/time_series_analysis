{
  "nbformat": 4,
  "nbformat_minor": 0,
  "metadata": {
    "colab": {
      "provenance": [],
      "gpuType": "T4"
    },
    "kernelspec": {
      "name": "python3",
      "display_name": "Python 3"
    },
    "language_info": {
      "name": "python"
    },
    "accelerator": "GPU"
  },
  "cells": [
    {
      "cell_type": "code",
      "execution_count": null,
      "metadata": {
        "colab": {
          "base_uri": "https://localhost:8080/"
        },
        "id": "NnfbJogf1BG4",
        "outputId": "1e819245-22b5-4993-b27c-462b1d415b7c"
      },
      "outputs": [
        {
          "output_type": "stream",
          "name": "stdout",
          "text": [
            "Looking in indexes: https://pypi.org/simple, https://us-python.pkg.dev/colab-wheels/public/simple/\n",
            "Collecting pyspark\n",
            "  Downloading pyspark-3.4.0.tar.gz (310.8 MB)\n",
            "\u001b[2K     \u001b[90m━━━━━━━━━━━━━━━━━━━━━━━━━━━━━━━━━━━━━━━\u001b[0m \u001b[32m310.8/310.8 MB\u001b[0m \u001b[31m4.8 MB/s\u001b[0m eta \u001b[36m0:00:00\u001b[0m\n",
            "\u001b[?25h  Preparing metadata (setup.py) ... \u001b[?25l\u001b[?25hdone\n",
            "Requirement already satisfied: py4j==0.10.9.7 in /usr/local/lib/python3.10/dist-packages (from pyspark) (0.10.9.7)\n",
            "Building wheels for collected packages: pyspark\n",
            "  Building wheel for pyspark (setup.py) ... \u001b[?25l\u001b[?25hdone\n",
            "  Created wheel for pyspark: filename=pyspark-3.4.0-py2.py3-none-any.whl size=311317130 sha256=833cadee725aa5451ac2ef9dc5bab387279c791bb34832a65bfd1e672e3967d4\n",
            "  Stored in directory: /root/.cache/pip/wheels/7b/1b/4b/3363a1d04368e7ff0d408e57ff57966fcdf00583774e761327\n",
            "Successfully built pyspark\n",
            "Installing collected packages: pyspark\n",
            "Successfully installed pyspark-3.4.0\n"
          ]
        }
      ],
      "source": [
        "pip install pyspark"
      ]
    },
    {
      "cell_type": "code",
      "source": [
        "import pyspark"
      ],
      "metadata": {
        "id": "OM-7D2Oj1lEx"
      },
      "execution_count": null,
      "outputs": []
    },
    {
      "cell_type": "code",
      "source": [
        "import pandas as pd\n",
        "import numpy as np"
      ],
      "metadata": {
        "id": "nIr4A5H24-Bk"
      },
      "execution_count": null,
      "outputs": []
    },
    {
      "cell_type": "code",
      "source": [
        "from pyspark.sql import SparkSession"
      ],
      "metadata": {
        "id": "7pL5nvo71zl5"
      },
      "execution_count": null,
      "outputs": []
    },
    {
      "cell_type": "code",
      "source": [
        "spark = SparkSession.builder.appName(\"appName\").getOrCreate()"
      ],
      "metadata": {
        "id": "0Q8u5Luh141T"
      },
      "execution_count": null,
      "outputs": []
    },
    {
      "cell_type": "code",
      "source": [
        "data = spark.read.csv('/content/Log.csv',inferSchema=True, header=True)"
      ],
      "metadata": {
        "id": "ANi-NyZG2DC_"
      },
      "execution_count": null,
      "outputs": []
    },
    {
      "cell_type": "code",
      "source": [
        "data.show()"
      ],
      "metadata": {
        "colab": {
          "base_uri": "https://localhost:8080/"
        },
        "id": "BdARamv72Sjl",
        "outputId": "cca32ca2-a506-4ee9-b7b3-740e5b32b8f5"
      },
      "execution_count": null,
      "outputs": [
        {
          "output_type": "stream",
          "name": "stdout",
          "text": [
            "+---------+---+-------------+------+------------+-------------+\n",
            "|  Country|Age|Vist Repeated|Server|viewed PAGES|User Category|\n",
            "+---------+---+-------------+------+------------+-------------+\n",
            "|    India| 41|            1| Yahoo|          21|            1|\n",
            "|   Brazil| 28|            1| Yahoo|           5|            0|\n",
            "|   Brazil| 40|            0|Google|           3|            0|\n",
            "|Indonesia| 31|            1|  Bing|          15|            1|\n",
            "| Malaysia| 32|            0|Google|          15|            1|\n",
            "|   Brazil| 32|            0|Google|           3|            0|\n",
            "|   Brazil| 32|            0|Google|           6|            0|\n",
            "|Indonesia| 27|            0|Google|           9|            0|\n",
            "|Indonesia| 32|            0| Yahoo|           2|            0|\n",
            "|Indonesia| 31|            1|  Bing|          16|            1|\n",
            "| Malaysia| 27|            1|Google|          21|            1|\n",
            "|Indonesia| 29|            1| Yahoo|           9|            1|\n",
            "|Indonesia| 33|            1| Yahoo|          20|            1|\n",
            "|Indonesia| 35|            0|  Bing|           2|            0|\n",
            "|    India| 27|            1| Yahoo|          21|            1|\n",
            "|Indonesia| 35|            0|  Bing|           2|            0|\n",
            "|Indonesia| 19|            1| Yahoo|          17|            1|\n",
            "|Indonesia| 17|            1| Yahoo|          13|            1|\n",
            "| Malaysia| 46|            0| Yahoo|           5|            0|\n",
            "|Indonesia| 24|            0|Google|           7|            0|\n",
            "+---------+---+-------------+------+------------+-------------+\n",
            "only showing top 20 rows\n",
            "\n"
          ]
        }
      ]
    },
    {
      "cell_type": "code",
      "source": [
        "data.printSchema()"
      ],
      "metadata": {
        "colab": {
          "base_uri": "https://localhost:8080/"
        },
        "id": "81tmzB6O2VL5",
        "outputId": "5d38903c-12c4-49d7-bc48-eb6a36384f2a"
      },
      "execution_count": null,
      "outputs": [
        {
          "output_type": "stream",
          "name": "stdout",
          "text": [
            "root\n",
            " |-- Country: string (nullable = true)\n",
            " |-- Age: integer (nullable = true)\n",
            " |-- Vist Repeated: integer (nullable = true)\n",
            " |-- Server: string (nullable = true)\n",
            " |-- viewed PAGES: integer (nullable = true)\n",
            " |-- User Category: integer (nullable = true)\n",
            "\n"
          ]
        }
      ]
    },
    {
      "cell_type": "code",
      "source": [
        "data.columns"
      ],
      "metadata": {
        "colab": {
          "base_uri": "https://localhost:8080/"
        },
        "id": "M-J1o-0M47uv",
        "outputId": "aeab727d-dfcd-4302-bb40-fac5f66b136d"
      },
      "execution_count": null,
      "outputs": [
        {
          "output_type": "execute_result",
          "data": {
            "text/plain": [
              "['Country', 'Age', 'Vist Repeated', 'Server', 'viewed PAGES', 'User Category']"
            ]
          },
          "metadata": {},
          "execution_count": 9
        }
      ]
    },
    {
      "cell_type": "code",
      "source": [
        "#Exploratory data analysis\n",
        "data.describe().show()"
      ],
      "metadata": {
        "colab": {
          "base_uri": "https://localhost:8080/"
        },
        "id": "qlndqu6M6vkv",
        "outputId": "585d91e7-cf85-4e9e-fc5e-b6d72aa0375a"
      },
      "execution_count": null,
      "outputs": [
        {
          "output_type": "stream",
          "name": "stdout",
          "text": [
            "+-------+--------+-----------------+-----------------+------+-----------------+------------------+\n",
            "|summary| Country|              Age|    Vist Repeated|Server|     viewed PAGES|     User Category|\n",
            "+-------+--------+-----------------+-----------------+------+-----------------+------------------+\n",
            "|  count|   20000|            20000|            20000| 20000|            20000|             20000|\n",
            "|   mean|    null|         28.53955|           0.5029|  null|           9.5533|               0.5|\n",
            "| stddev|    null|7.888912950773227|0.500004090187782|  null|6.073903499824976|0.5000125004687693|\n",
            "|    min|  Brazil|               17|                0|  Bing|                1|                 0|\n",
            "|    max|Malaysia|              111|                1| Yahoo|               29|                 1|\n",
            "+-------+--------+-----------------+-----------------+------+-----------------+------------------+\n",
            "\n"
          ]
        }
      ]
    },
    {
      "cell_type": "code",
      "source": [
        "from pyspark.ml.evaluation import BinaryClassificationEvaluator"
      ],
      "metadata": {
        "id": "1DNHgnw961Ow"
      },
      "execution_count": null,
      "outputs": []
    },
    {
      "cell_type": "code",
      "source": [
        "data.groupBy('Country').count().show()"
      ],
      "metadata": {
        "colab": {
          "base_uri": "https://localhost:8080/"
        },
        "id": "AtssS6aQ8kZP",
        "outputId": "02d281da-d936-4042-c3aa-4dfd0664a892"
      },
      "execution_count": null,
      "outputs": [
        {
          "output_type": "stream",
          "name": "stdout",
          "text": [
            "+---------+-----+\n",
            "|  Country|count|\n",
            "+---------+-----+\n",
            "| Malaysia| 1218|\n",
            "|    India| 4018|\n",
            "|Indonesia|12178|\n",
            "|   Brazil| 2586|\n",
            "+---------+-----+\n",
            "\n"
          ]
        }
      ]
    },
    {
      "cell_type": "code",
      "source": [
        "data.groupBy('Server').count().show()"
      ],
      "metadata": {
        "colab": {
          "base_uri": "https://localhost:8080/"
        },
        "id": "WJpEOUDP-p2f",
        "outputId": "45907f57-0c27-40ed-fdb5-cb0cbc080c49"
      },
      "execution_count": null,
      "outputs": [
        {
          "output_type": "stream",
          "name": "stdout",
          "text": [
            "+------+-----+\n",
            "|Server|count|\n",
            "+------+-----+\n",
            "| Yahoo| 9859|\n",
            "|  Bing| 4360|\n",
            "|Google| 5781|\n",
            "+------+-----+\n",
            "\n"
          ]
        }
      ]
    },
    {
      "cell_type": "code",
      "source": [
        "data.groupBy('Vist Repeated').count().show()"
      ],
      "metadata": {
        "colab": {
          "base_uri": "https://localhost:8080/"
        },
        "id": "oiO-u9DWB78F",
        "outputId": "9e7b87a1-6152-4fbb-a2d5-4ff3f3ef736f"
      },
      "execution_count": null,
      "outputs": [
        {
          "output_type": "stream",
          "name": "stdout",
          "text": [
            "+-------------+-----+\n",
            "|Vist Repeated|count|\n",
            "+-------------+-----+\n",
            "|            1|10058|\n",
            "|            0| 9942|\n",
            "+-------------+-----+\n",
            "\n"
          ]
        }
      ]
    },
    {
      "cell_type": "code",
      "source": [
        "from pyspark.ml.feature import StringIndexer\n",
        "indexer = StringIndexer(inputCol=\"Server\", outputCol = \"Server No\")\n",
        "indexed = indexer.fit(data).transform(data)\n",
        "indexed.head(7)"
      ],
      "metadata": {
        "colab": {
          "base_uri": "https://localhost:8080/"
        },
        "id": "Kbx1CYimBg66",
        "outputId": "49256d90-a732-44a7-c822-379c387c4475"
      },
      "execution_count": null,
      "outputs": [
        {
          "output_type": "execute_result",
          "data": {
            "text/plain": [
              "[Row(Country='India', Age=41, Vist Repeated=1, Server='Yahoo', viewed PAGES=21, User Category=1, Server No=0.0),\n",
              " Row(Country='Brazil', Age=28, Vist Repeated=1, Server='Yahoo', viewed PAGES=5, User Category=0, Server No=0.0),\n",
              " Row(Country='Brazil', Age=40, Vist Repeated=0, Server='Google', viewed PAGES=3, User Category=0, Server No=1.0),\n",
              " Row(Country='Indonesia', Age=31, Vist Repeated=1, Server='Bing', viewed PAGES=15, User Category=1, Server No=2.0),\n",
              " Row(Country='Malaysia', Age=32, Vist Repeated=0, Server='Google', viewed PAGES=15, User Category=1, Server No=1.0),\n",
              " Row(Country='Brazil', Age=32, Vist Repeated=0, Server='Google', viewed PAGES=3, User Category=0, Server No=1.0),\n",
              " Row(Country='Brazil', Age=32, Vist Repeated=0, Server='Google', viewed PAGES=6, User Category=0, Server No=1.0)]"
            ]
          },
          "metadata": {},
          "execution_count": 15
        }
      ]
    },
    {
      "cell_type": "code",
      "source": [
        "#Indexing\n",
        "search_engine_indexer = StringIndexer(inputCol = \"Server\", outputCol = \"Server Num\")"
      ],
      "metadata": {
        "id": "ciJIPSBO_Gz7"
      },
      "execution_count": null,
      "outputs": []
    },
    {
      "cell_type": "code",
      "source": [
        "fit = search_engine_indexer.fit(data)\n",
        "data = fit.transform(data)"
      ],
      "metadata": {
        "id": "cA0u-PrCAZon"
      },
      "execution_count": null,
      "outputs": []
    },
    {
      "cell_type": "code",
      "source": [
        "from pyspark.ml.feature import OneHotEncoder"
      ],
      "metadata": {
        "id": "xvqAzrImB3hB"
      },
      "execution_count": null,
      "outputs": []
    },
    {
      "cell_type": "code",
      "source": [
        "#one hot encoding\n",
        "search_engine_encoder = OneHotEncoder(inputCol = \"Server Num\", outputCol = \"Server Vector\")\n",
        "search_engine_encoder.setDropLast(False)\n",
        "fit = search_engine_encoder.fit(data)\n",
        "data = fit.transform(data)"
      ],
      "metadata": {
        "id": "Y77v-WDIEAG6"
      },
      "execution_count": null,
      "outputs": []
    },
    {
      "cell_type": "code",
      "source": [
        "data.show(3,truncate = False)"
      ],
      "metadata": {
        "colab": {
          "base_uri": "https://localhost:8080/"
        },
        "id": "yIDxKT1jEmuz",
        "outputId": "0051e907-aa26-4e1d-ca90-85470063f685"
      },
      "execution_count": null,
      "outputs": [
        {
          "output_type": "stream",
          "name": "stdout",
          "text": [
            "+-------+---+-------------+------+------------+-------------+----------+-------------+\n",
            "|Country|Age|Vist Repeated|Server|viewed PAGES|User Category|Server Num|Server Vector|\n",
            "+-------+---+-------------+------+------------+-------------+----------+-------------+\n",
            "|India  |41 |1            |Yahoo |21          |1            |0.0       |(3,[0],[1.0])|\n",
            "|Brazil |28 |1            |Yahoo |5           |0            |0.0       |(3,[0],[1.0])|\n",
            "|Brazil |40 |0            |Google|3           |0            |1.0       |(3,[1],[1.0])|\n",
            "+-------+---+-------------+------+------------+-------------+----------+-------------+\n",
            "only showing top 3 rows\n",
            "\n"
          ]
        }
      ]
    },
    {
      "cell_type": "code",
      "source": [
        "#original data\n",
        "data.groupBy('Server').count().orderBy('count',ascending = False).show(5,False)"
      ],
      "metadata": {
        "colab": {
          "base_uri": "https://localhost:8080/"
        },
        "id": "ERgyC3t6EqrG",
        "outputId": "2f5747b2-5bef-47d8-f060-472f81206ca4"
      },
      "execution_count": null,
      "outputs": [
        {
          "output_type": "stream",
          "name": "stdout",
          "text": [
            "+------+-----+\n",
            "|Server|count|\n",
            "+------+-----+\n",
            "|Yahoo |9859 |\n",
            "|Google|5781 |\n",
            "|Bing  |4360 |\n",
            "+------+-----+\n",
            "\n"
          ]
        }
      ]
    },
    {
      "cell_type": "code",
      "source": [
        "#string indexer data\n",
        "data.groupBy('Server Num').count().orderBy('count',ascending = False).show(5,False)"
      ],
      "metadata": {
        "colab": {
          "base_uri": "https://localhost:8080/"
        },
        "id": "w5NNCBgAE1jG",
        "outputId": "29afee11-fc11-4c67-b109-645699f053a6"
      },
      "execution_count": null,
      "outputs": [
        {
          "output_type": "stream",
          "name": "stdout",
          "text": [
            "+----------+-----+\n",
            "|Server Num|count|\n",
            "+----------+-----+\n",
            "|0.0       |9859 |\n",
            "|1.0       |5781 |\n",
            "|2.0       |4360 |\n",
            "+----------+-----+\n",
            "\n"
          ]
        }
      ]
    },
    {
      "cell_type": "code",
      "source": [
        "#data converted to vector\n",
        "data.groupBy('Server Vector').count().orderBy('count',ascending = False).show(5,False)"
      ],
      "metadata": {
        "colab": {
          "base_uri": "https://localhost:8080/"
        },
        "id": "ORWedqy2E7dX",
        "outputId": "684abc44-baaa-4840-e709-9d912c0f99da"
      },
      "execution_count": null,
      "outputs": [
        {
          "output_type": "stream",
          "name": "stdout",
          "text": [
            "+-------------+-----+\n",
            "|Server Vector|count|\n",
            "+-------------+-----+\n",
            "|(3,[0],[1.0])|9859 |\n",
            "|(3,[1],[1.0])|5781 |\n",
            "|(3,[2],[1.0])|4360 |\n",
            "+-------------+-----+\n",
            "\n"
          ]
        }
      ]
    },
    {
      "cell_type": "markdown",
      "source": [
        "Now we follow the same steps for another categorical column, \"Country\"."
      ],
      "metadata": {
        "id": "YZyAlBlUFy9s"
      }
    },
    {
      "cell_type": "code",
      "source": [
        "from pyspark.ml.feature import StringIndexer\n",
        "indexer = StringIndexer(inputCol=\"Country\", outputCol = \"Country no\")\n",
        "indexed = indexer.fit(data).transform(data)\n",
        "indexed.head(7)"
      ],
      "metadata": {
        "colab": {
          "base_uri": "https://localhost:8080/"
        },
        "id": "V3ptR9GMFESh",
        "outputId": "45238c72-f6ad-44f9-a039-f27a58aa86b8"
      },
      "execution_count": null,
      "outputs": [
        {
          "output_type": "execute_result",
          "data": {
            "text/plain": [
              "[Row(Country='India', Age=41, Vist Repeated=1, Server='Yahoo', viewed PAGES=21, User Category=1, Server Num=0.0, Server Vector=SparseVector(3, {0: 1.0}), Country no=1.0),\n",
              " Row(Country='Brazil', Age=28, Vist Repeated=1, Server='Yahoo', viewed PAGES=5, User Category=0, Server Num=0.0, Server Vector=SparseVector(3, {0: 1.0}), Country no=2.0),\n",
              " Row(Country='Brazil', Age=40, Vist Repeated=0, Server='Google', viewed PAGES=3, User Category=0, Server Num=1.0, Server Vector=SparseVector(3, {1: 1.0}), Country no=2.0),\n",
              " Row(Country='Indonesia', Age=31, Vist Repeated=1, Server='Bing', viewed PAGES=15, User Category=1, Server Num=2.0, Server Vector=SparseVector(3, {2: 1.0}), Country no=0.0),\n",
              " Row(Country='Malaysia', Age=32, Vist Repeated=0, Server='Google', viewed PAGES=15, User Category=1, Server Num=1.0, Server Vector=SparseVector(3, {1: 1.0}), Country no=3.0),\n",
              " Row(Country='Brazil', Age=32, Vist Repeated=0, Server='Google', viewed PAGES=3, User Category=0, Server Num=1.0, Server Vector=SparseVector(3, {1: 1.0}), Country no=2.0),\n",
              " Row(Country='Brazil', Age=32, Vist Repeated=0, Server='Google', viewed PAGES=6, User Category=0, Server Num=1.0, Server Vector=SparseVector(3, {1: 1.0}), Country no=2.0)]"
            ]
          },
          "metadata": {},
          "execution_count": 24
        }
      ]
    },
    {
      "cell_type": "code",
      "source": [
        "#Indexing\n",
        "country_indexer = StringIndexer(inputCol = \"Country\", outputCol = \"Country nu\")"
      ],
      "metadata": {
        "id": "_T5BnpYwGFI1"
      },
      "execution_count": null,
      "outputs": []
    },
    {
      "cell_type": "code",
      "source": [
        "fit = country_indexer.fit(data)\n",
        "data = fit.transform(data)"
      ],
      "metadata": {
        "id": "CIkvFwpBGKja"
      },
      "execution_count": null,
      "outputs": []
    },
    {
      "cell_type": "code",
      "source": [
        "from pyspark.ml.feature import OneHotEncoder"
      ],
      "metadata": {
        "id": "K0Prp2idGO9I"
      },
      "execution_count": null,
      "outputs": []
    },
    {
      "cell_type": "code",
      "source": [
        "#one hot encoding\n",
        "search_engine_encoder = OneHotEncoder(inputCol = \"Country nu\", outputCol = \"Country_encode\")\n",
        "search_engine_encoder.setDropLast(False)\n",
        "ohe = search_engine_encoder.fit(data)\n",
        "data= ohe.transform(data)"
      ],
      "metadata": {
        "id": "BYNxUF63GhKG"
      },
      "execution_count": null,
      "outputs": []
    },
    {
      "cell_type": "code",
      "source": [
        "data.show(3,truncate = False)"
      ],
      "metadata": {
        "colab": {
          "base_uri": "https://localhost:8080/"
        },
        "id": "HKNn20UzGrD1",
        "outputId": "dafb2f84-5417-4e7c-d8ab-64370d074841"
      },
      "execution_count": null,
      "outputs": [
        {
          "output_type": "stream",
          "name": "stdout",
          "text": [
            "+-------+---+-------------+------+------------+-------------+----------+-------------+----------+--------------+\n",
            "|Country|Age|Vist Repeated|Server|viewed PAGES|User Category|Server Num|Server Vector|Country nu|Country_encode|\n",
            "+-------+---+-------------+------+------------+-------------+----------+-------------+----------+--------------+\n",
            "|India  |41 |1            |Yahoo |21          |1            |0.0       |(3,[0],[1.0])|1.0       |(4,[1],[1.0]) |\n",
            "|Brazil |28 |1            |Yahoo |5           |0            |0.0       |(3,[0],[1.0])|2.0       |(4,[2],[1.0]) |\n",
            "|Brazil |40 |0            |Google|3           |0            |1.0       |(3,[1],[1.0])|2.0       |(4,[2],[1.0]) |\n",
            "+-------+---+-------------+------+------------+-------------+----------+-------------+----------+--------------+\n",
            "only showing top 3 rows\n",
            "\n"
          ]
        }
      ]
    },
    {
      "cell_type": "code",
      "source": [
        "#original data\n",
        "data.groupBy('Country').count().orderBy('count',ascending = False).show(10,False)"
      ],
      "metadata": {
        "colab": {
          "base_uri": "https://localhost:8080/"
        },
        "id": "byGFP7jDIdnV",
        "outputId": "5246926c-1776-4817-f061-c12c0e1828b5"
      },
      "execution_count": null,
      "outputs": [
        {
          "output_type": "stream",
          "name": "stdout",
          "text": [
            "+---------+-----+\n",
            "|Country  |count|\n",
            "+---------+-----+\n",
            "|Indonesia|12178|\n",
            "|India    |4018 |\n",
            "|Brazil   |2586 |\n",
            "|Malaysia |1218 |\n",
            "+---------+-----+\n",
            "\n"
          ]
        }
      ]
    },
    {
      "cell_type": "code",
      "source": [
        "data.groupBy('Country nu').count().orderBy('count',ascending = False).show(10,False)"
      ],
      "metadata": {
        "colab": {
          "base_uri": "https://localhost:8080/"
        },
        "id": "vef8EKnqIshu",
        "outputId": "be7ea253-3a27-40e2-819d-ee2534324964"
      },
      "execution_count": null,
      "outputs": [
        {
          "output_type": "stream",
          "name": "stdout",
          "text": [
            "+----------+-----+\n",
            "|Country nu|count|\n",
            "+----------+-----+\n",
            "|0.0       |12178|\n",
            "|1.0       |4018 |\n",
            "|2.0       |2586 |\n",
            "|3.0       |1218 |\n",
            "+----------+-----+\n",
            "\n"
          ]
        }
      ]
    },
    {
      "cell_type": "code",
      "source": [
        "data.groupBy('Country_encode').count().orderBy('count',ascending = False).show(10,False)"
      ],
      "metadata": {
        "colab": {
          "base_uri": "https://localhost:8080/"
        },
        "id": "wfM7VHUJI60n",
        "outputId": "06f6aff3-49dc-4843-88fb-9397d8460d1b"
      },
      "execution_count": null,
      "outputs": [
        {
          "output_type": "stream",
          "name": "stdout",
          "text": [
            "+--------------+-----+\n",
            "|Country_encode|count|\n",
            "+--------------+-----+\n",
            "|(4,[0],[1.0]) |12178|\n",
            "|(4,[1],[1.0]) |4018 |\n",
            "|(4,[2],[1.0]) |2586 |\n",
            "|(4,[3],[1.0]) |1218 |\n",
            "+--------------+-----+\n",
            "\n"
          ]
        }
      ]
    },
    {
      "cell_type": "code",
      "source": [
        "from pyspark.ml.feature import VectorAssembler"
      ],
      "metadata": {
        "id": "KO5xNJ9jI_G-"
      },
      "execution_count": null,
      "outputs": []
    },
    {
      "cell_type": "code",
      "source": [
        "data_assembler = VectorAssembler(\n",
        "    inputCols=['Server Vector','Country_encode','Age','Vist Repeated','viewed PAGES'],outputCol = \"features\")\n",
        "data = data_assembler.transform(data)"
      ],
      "metadata": {
        "id": "OKVOwlP8JOff"
      },
      "execution_count": null,
      "outputs": []
    },
    {
      "cell_type": "code",
      "source": [
        "data.select(['features','User Category'])"
      ],
      "metadata": {
        "colab": {
          "base_uri": "https://localhost:8080/"
        },
        "id": "a0jcQtkDKfsj",
        "outputId": "3f7bd71c-bf4d-4a59-eb06-a605991dd7e5"
      },
      "execution_count": null,
      "outputs": [
        {
          "output_type": "execute_result",
          "data": {
            "text/plain": [
              "DataFrame[features: vector, User Category: int]"
            ]
          },
          "metadata": {},
          "execution_count": 43
        }
      ]
    },
    {
      "cell_type": "code",
      "source": [
        "#select data for building model\n",
        "model_data = data.select(['features','User Category'])"
      ],
      "metadata": {
        "id": "6KpAfeVGKRZM"
      },
      "execution_count": null,
      "outputs": []
    },
    {
      "cell_type": "code",
      "source": [
        "from pyspark.ml.classification import LogisticRegression"
      ],
      "metadata": {
        "id": "mUxR6UQbKajQ"
      },
      "execution_count": null,
      "outputs": []
    },
    {
      "cell_type": "code",
      "source": [
        "#split the data\n",
        "training_data,test_data = model_data.randomSplit([0.80,0.20])"
      ],
      "metadata": {
        "id": "gWgjygBIMLxl"
      },
      "execution_count": null,
      "outputs": []
    },
    {
      "cell_type": "code",
      "source": [
        "training_data.count()"
      ],
      "metadata": {
        "colab": {
          "base_uri": "https://localhost:8080/"
        },
        "id": "Vcb_2DDiMVsS",
        "outputId": "b103092b-9f05-4ce0-c762-74185b499e8b"
      },
      "execution_count": null,
      "outputs": [
        {
          "output_type": "execute_result",
          "data": {
            "text/plain": [
              "15982"
            ]
          },
          "metadata": {},
          "execution_count": 47
        }
      ]
    },
    {
      "cell_type": "code",
      "source": [
        "training_data.groupBy('User Category').count().show()"
      ],
      "metadata": {
        "colab": {
          "base_uri": "https://localhost:8080/"
        },
        "id": "xs6zh-GcMfet",
        "outputId": "8e89e695-bb6c-470b-95a1-978fe1fc7370"
      },
      "execution_count": null,
      "outputs": [
        {
          "output_type": "stream",
          "name": "stdout",
          "text": [
            "+-------------+-----+\n",
            "|User Category|count|\n",
            "+-------------+-----+\n",
            "|            1| 7985|\n",
            "|            0| 7997|\n",
            "+-------------+-----+\n",
            "\n"
          ]
        }
      ]
    },
    {
      "cell_type": "code",
      "source": [
        "test_data.count()"
      ],
      "metadata": {
        "id": "fYGFHDh8Mgs6",
        "colab": {
          "base_uri": "https://localhost:8080/"
        },
        "outputId": "86806999-dfb0-4ed1-ffa8-6070b339222d"
      },
      "execution_count": null,
      "outputs": [
        {
          "output_type": "execute_result",
          "data": {
            "text/plain": [
              "4018"
            ]
          },
          "metadata": {},
          "execution_count": 49
        }
      ]
    },
    {
      "cell_type": "code",
      "source": [
        "test_data.groupBy('User Category').count().show()"
      ],
      "metadata": {
        "colab": {
          "base_uri": "https://localhost:8080/"
        },
        "id": "BaSEzVmg587w",
        "outputId": "61ebf5fc-9910-4fc5-f959-23f9330eba39"
      },
      "execution_count": null,
      "outputs": [
        {
          "output_type": "stream",
          "name": "stdout",
          "text": [
            "+-------------+-----+\n",
            "|User Category|count|\n",
            "+-------------+-----+\n",
            "|            1| 2015|\n",
            "|            0| 2003|\n",
            "+-------------+-----+\n",
            "\n"
          ]
        }
      ]
    },
    {
      "cell_type": "code",
      "source": [
        "log_reg = LogisticRegression(labelCol='User Category').fit(training_data)\n",
        "#log_reg is object to store the results of Logistic Regression()"
      ],
      "metadata": {
        "id": "ysnp8pdZ6YWc"
      },
      "execution_count": null,
      "outputs": []
    },
    {
      "cell_type": "code",
      "source": [
        "#training results\n",
        "train_results = log_reg.evaluate(training_data).predictions\n",
        "#og_reg object has to call evaluate() to evaluate predictions by fitting the training data. "
      ],
      "metadata": {
        "id": "LiqZAKSE6mUF"
      },
      "execution_count": null,
      "outputs": []
    },
    {
      "cell_type": "code",
      "source": [
        "train_results.filter(train_results['User Category']==1).filter(train_results['prediction']==1).select(['User Category','prediction','probability']).show(10,False)"
      ],
      "metadata": {
        "colab": {
          "base_uri": "https://localhost:8080/"
        },
        "id": "sK6RSFlg6vmd",
        "outputId": "045e260b-f926-40ba-9eb8-231f099a01cc"
      },
      "execution_count": null,
      "outputs": [
        {
          "output_type": "stream",
          "name": "stdout",
          "text": [
            "+-------------+----------+----------------------------------------+\n",
            "|User Category|prediction|probability                             |\n",
            "+-------------+----------+----------------------------------------+\n",
            "|1            |1.0       |[0.4223894985489428,0.5776105014510572] |\n",
            "|1            |1.0       |[0.4223894985489428,0.5776105014510572] |\n",
            "|1            |1.0       |[0.2551036389060448,0.7448963610939552] |\n",
            "|1            |1.0       |[0.2551036389060448,0.7448963610939552] |\n",
            "|1            |1.0       |[0.2551036389060448,0.7448963610939552] |\n",
            "|1            |1.0       |[0.1382170083410661,0.8617829916589339] |\n",
            "|1            |1.0       |[0.1382170083410661,0.8617829916589339] |\n",
            "|1            |1.0       |[0.06986390210272912,0.9301360978972709]|\n",
            "|1            |1.0       |[0.06986390210272912,0.9301360978972709]|\n",
            "|1            |1.0       |[0.06986390210272912,0.9301360978972709]|\n",
            "+-------------+----------+----------------------------------------+\n",
            "only showing top 10 rows\n",
            "\n"
          ]
        }
      ]
    },
    {
      "cell_type": "markdown",
      "source": [
        "Probability at 0 index is for 0 class and probability as 1 index is for 1 class"
      ],
      "metadata": {
        "id": "ollJSpG_89cT"
      }
    },
    {
      "cell_type": "code",
      "source": [
        "correct_preds = train_results.filter(train_results['User Category']==1).filter(train_results['prediction']==1).count()"
      ],
      "metadata": {
        "id": "XZndTjn67_G2"
      },
      "execution_count": null,
      "outputs": []
    },
    {
      "cell_type": "code",
      "source": [
        "correct_preds"
      ],
      "metadata": {
        "colab": {
          "base_uri": "https://localhost:8080/"
        },
        "id": "GWjHyzEY9c0P",
        "outputId": "faed4501-73ab-41ba-dbcc-5e1267b1dffe"
      },
      "execution_count": null,
      "outputs": [
        {
          "output_type": "execute_result",
          "data": {
            "text/plain": [
              "7491"
            ]
          },
          "metadata": {},
          "execution_count": 63
        }
      ]
    },
    {
      "cell_type": "code",
      "source": [
        "#Test set results\n",
        "results = log_reg.evaluate(test_data).predictions"
      ],
      "metadata": {
        "id": "_zO-jVi3-QqZ"
      },
      "execution_count": null,
      "outputs": []
    },
    {
      "cell_type": "code",
      "source": [
        "results.select(['User Category','prediction']).show(20,False)"
      ],
      "metadata": {
        "colab": {
          "base_uri": "https://localhost:8080/"
        },
        "id": "yWPEB6W8-cxQ",
        "outputId": "63f5d58c-ede5-4405-aed6-61531ad0c835"
      },
      "execution_count": null,
      "outputs": [
        {
          "output_type": "stream",
          "name": "stdout",
          "text": [
            "+-------------+----------+\n",
            "|User Category|prediction|\n",
            "+-------------+----------+\n",
            "|0            |0.0       |\n",
            "|1            |0.0       |\n",
            "|1            |1.0       |\n",
            "|1            |1.0       |\n",
            "|1            |1.0       |\n",
            "|1            |1.0       |\n",
            "|1            |1.0       |\n",
            "|1            |1.0       |\n",
            "|1            |1.0       |\n",
            "|1            |1.0       |\n",
            "|1            |1.0       |\n",
            "|1            |1.0       |\n",
            "|1            |1.0       |\n",
            "|1            |1.0       |\n",
            "|1            |1.0       |\n",
            "|1            |1.0       |\n",
            "|1            |1.0       |\n",
            "|1            |1.0       |\n",
            "|1            |1.0       |\n",
            "|1            |1.0       |\n",
            "+-------------+----------+\n",
            "only showing top 20 rows\n",
            "\n"
          ]
        }
      ]
    },
    {
      "cell_type": "code",
      "source": [
        "results.printSchema()"
      ],
      "metadata": {
        "colab": {
          "base_uri": "https://localhost:8080/"
        },
        "id": "nKYPXf5H-sOr",
        "outputId": "4d84d428-28e3-4a33-a250-7443986d5480"
      },
      "execution_count": null,
      "outputs": [
        {
          "output_type": "stream",
          "name": "stdout",
          "text": [
            "root\n",
            " |-- features: vector (nullable = true)\n",
            " |-- User Category: integer (nullable = true)\n",
            " |-- rawPrediction: vector (nullable = true)\n",
            " |-- probability: vector (nullable = true)\n",
            " |-- prediction: double (nullable = false)\n",
            "\n"
          ]
        }
      ]
    },
    {
      "cell_type": "code",
      "source": [
        "results[(results['User Category']==1) & (results.prediction ==1)].count()"
      ],
      "metadata": {
        "colab": {
          "base_uri": "https://localhost:8080/"
        },
        "id": "tTTd9Sqg-3k4",
        "outputId": "4ad29792-245a-458d-fd09-284e60a79434"
      },
      "execution_count": null,
      "outputs": [
        {
          "output_type": "execute_result",
          "data": {
            "text/plain": [
              "1894"
            ]
          },
          "metadata": {},
          "execution_count": 70
        }
      ]
    },
    {
      "cell_type": "code",
      "source": [
        "from pyspark.ml.evaluation import BinaryClassificationEvaluator"
      ],
      "metadata": {
        "id": "53F6q871_oT6"
      },
      "execution_count": null,
      "outputs": []
    },
    {
      "cell_type": "code",
      "source": [
        "#CONFUSION MATRIX\n",
        "true_positives = results[(results['User Category']==1)& (results.prediction==1)].count()\n",
        "true_negatives = results[(results['User Category']==0)& (results.prediction==0)].count()\n",
        "false_positives = results[(results['User Category']==0)& (results.prediction==1)].count()\n",
        "false_negatives = results[(results['User Category']==1)& (results.prediction==0)].count()"
      ],
      "metadata": {
        "id": "DkOYJOeI_weu"
      },
      "execution_count": null,
      "outputs": []
    },
    {
      "cell_type": "code",
      "source": [
        "true_positives"
      ],
      "metadata": {
        "colab": {
          "base_uri": "https://localhost:8080/"
        },
        "id": "aqK5Y8YmAdHD",
        "outputId": "4a18393e-3273-44b6-c59a-f14778b1983a"
      },
      "execution_count": null,
      "outputs": [
        {
          "output_type": "execute_result",
          "data": {
            "text/plain": [
              "1894"
            ]
          },
          "metadata": {},
          "execution_count": 75
        }
      ]
    },
    {
      "cell_type": "code",
      "source": [
        "true_negatives"
      ],
      "metadata": {
        "colab": {
          "base_uri": "https://localhost:8080/"
        },
        "id": "Zw2-FuQDAgmu",
        "outputId": "bfafff48-6b3e-420e-b930-7e8e4f03bb29"
      },
      "execution_count": null,
      "outputs": [
        {
          "output_type": "execute_result",
          "data": {
            "text/plain": [
              "1864"
            ]
          },
          "metadata": {},
          "execution_count": 76
        }
      ]
    },
    {
      "cell_type": "code",
      "source": [
        "false_positives"
      ],
      "metadata": {
        "colab": {
          "base_uri": "https://localhost:8080/"
        },
        "id": "mEVfhe-aAl61",
        "outputId": "09d81820-d001-416c-8406-2301d27b9d3f"
      },
      "execution_count": null,
      "outputs": [
        {
          "output_type": "execute_result",
          "data": {
            "text/plain": [
              "139"
            ]
          },
          "metadata": {},
          "execution_count": 77
        }
      ]
    },
    {
      "cell_type": "code",
      "source": [
        "false_negatives"
      ],
      "metadata": {
        "colab": {
          "base_uri": "https://localhost:8080/"
        },
        "id": "o2cwWX7fAn--",
        "outputId": "e247fb61-ca06-4f07-d26e-02e861517d54"
      },
      "execution_count": null,
      "outputs": [
        {
          "output_type": "execute_result",
          "data": {
            "text/plain": [
              "121"
            ]
          },
          "metadata": {},
          "execution_count": 78
        }
      ]
    },
    {
      "cell_type": "code",
      "source": [
        "print(true_positives+true_negatives+false_negatives+false_positives)\n",
        "print(results.count())"
      ],
      "metadata": {
        "colab": {
          "base_uri": "https://localhost:8080/"
        },
        "id": "MuSJXivRApo7",
        "outputId": "ef9fb53f-61e9-44e5-febe-320bf8727757"
      },
      "execution_count": null,
      "outputs": [
        {
          "output_type": "stream",
          "name": "stdout",
          "text": [
            "4018\n",
            "4018\n"
          ]
        }
      ]
    },
    {
      "cell_type": "code",
      "source": [
        "#recall\n",
        "recall = float(true_positives)/(true_positives+false_negatives)\n",
        "recall"
      ],
      "metadata": {
        "colab": {
          "base_uri": "https://localhost:8080/"
        },
        "id": "RJI4flh8BATx",
        "outputId": "4eea0687-1e26-44dc-d6f3-0a3651fe5275"
      },
      "execution_count": null,
      "outputs": [
        {
          "output_type": "execute_result",
          "data": {
            "text/plain": [
              "0.9399503722084367"
            ]
          },
          "metadata": {},
          "execution_count": 81
        }
      ]
    },
    {
      "cell_type": "code",
      "source": [
        "#precision\n",
        "precision = float(true_positives)/(true_positives+false_positives)\n",
        "precision"
      ],
      "metadata": {
        "colab": {
          "base_uri": "https://localhost:8080/"
        },
        "id": "cqKnXUQ-BN1W",
        "outputId": "508dc367-ced7-47b2-8679-eb7d76d1f79f"
      },
      "execution_count": null,
      "outputs": [
        {
          "output_type": "execute_result",
          "data": {
            "text/plain": [
              "0.9316281357599606"
            ]
          },
          "metadata": {},
          "execution_count": 87
        }
      ]
    },
    {
      "cell_type": "code",
      "source": [
        "#accuracy\n",
        "accuracy = float((true_positives+true_negatives)/(results.count()))\n",
        "accuracy"
      ],
      "metadata": {
        "colab": {
          "base_uri": "https://localhost:8080/"
        },
        "id": "z0WpATq_BZs9",
        "outputId": "6a27f2a5-bb49-4194-af05-2c9b6382354f"
      },
      "execution_count": null,
      "outputs": [
        {
          "output_type": "execute_result",
          "data": {
            "text/plain": [
              "0.9352911896465903"
            ]
          },
          "metadata": {},
          "execution_count": 89
        }
      ]
    },
    {
      "cell_type": "code",
      "source": [
        "import matplotlib.pyplot as plt"
      ],
      "metadata": {
        "id": "ktcozujVFqxS"
      },
      "execution_count": null,
      "outputs": []
    },
    {
      "cell_type": "code",
      "source": [
        "#Reciever operating characteristic\n",
        "trainsummary = log_reg.summary #summay of model results\n",
        "roc = trainsummary.roc.toPandas()  #transform to pandas formats\n",
        "plt.plot(roc['FPR'],roc['TPR'])  #plot the false positive rate, true positive rate\n",
        "plt.ylabel('False Positive Rate')\n",
        "plt.xlabel(\"True Positive Rate\")\n",
        "plt.title('ROC Curve')\n",
        "plt.show()"
      ],
      "metadata": {
        "colab": {
          "base_uri": "https://localhost:8080/",
          "height": 472
        },
        "id": "Tjnqea9EEQWU",
        "outputId": "64ea4798-6ef6-406f-fb71-0043d534161a"
      },
      "execution_count": null,
      "outputs": [
        {
          "output_type": "display_data",
          "data": {
            "text/plain": [
              "<Figure size 640x480 with 1 Axes>"
            ],
            "image/png": "[encoded data removed]"
          },
          "metadata": {}
        }
      ]
    },
    {
      "cell_type": "code",
      "source": [
        "print('Training set area Under the curve (AUC): '+str(trainsummary.areaUnderROC))"
      ],
      "metadata": {
        "colab": {
          "base_uri": "https://localhost:8080/"
        },
        "id": "yOlRI9sgFo26",
        "outputId": "cf5f7927-f6a6-4f7a-9256-8cf071b01ce3"
      },
      "execution_count": null,
      "outputs": [
        {
          "output_type": "stream",
          "name": "stdout",
          "text": [
            "Training set area Under the curve (AUC): 0.9857843372542101\n"
          ]
        }
      ]
    },
    {
      "cell_type": "code",
      "source": [
        "from pyspark.ml.evaluation import BinaryClassificationEvaluator\n",
        "test_val = BinaryClassificationEvaluator()\n",
        "print('Test Area under ROC',test_val.evaluate(result))"
      ],
      "metadata": {
        "colab": {
          "base_uri": "https://localhost:8080/",
          "height": 200
        },
        "id": "VwdUSCq-GObW",
        "outputId": "b2a961b4-77ef-47f3-c5e8-cdd33fe76613"
      },
      "execution_count": null,
      "outputs": [
        {
          "output_type": "error",
          "ename": "NameError",
          "evalue": "ignored",
          "traceback": [
            "\u001b[0;31m---------------------------------------------------------------------------\u001b[0m",
            "\u001b[0;31mNameError\u001b[0m                                 Traceback (most recent call last)",
            "\u001b[0;32m<ipython-input-96-c86a8ac1cc42>\u001b[0m in \u001b[0;36m<cell line: 3>\u001b[0;34m()\u001b[0m\n\u001b[1;32m      1\u001b[0m \u001b[0;32mfrom\u001b[0m \u001b[0mpyspark\u001b[0m\u001b[0;34m.\u001b[0m\u001b[0mml\u001b[0m\u001b[0;34m.\u001b[0m\u001b[0mevaluation\u001b[0m \u001b[0;32mimport\u001b[0m \u001b[0mBinaryClassificationEvaluator\u001b[0m\u001b[0;34m\u001b[0m\u001b[0;34m\u001b[0m\u001b[0m\n\u001b[1;32m      2\u001b[0m \u001b[0mtest_val\u001b[0m \u001b[0;34m=\u001b[0m \u001b[0mBinaryClassificationEvaluator\u001b[0m\u001b[0;34m(\u001b[0m\u001b[0;34m)\u001b[0m\u001b[0;34m\u001b[0m\u001b[0;34m\u001b[0m\u001b[0m\n\u001b[0;32m----> 3\u001b[0;31m \u001b[0mprint\u001b[0m\u001b[0;34m(\u001b[0m\u001b[0;34m'Test Area under ROC'\u001b[0m\u001b[0;34m,\u001b[0m\u001b[0mtest_val\u001b[0m\u001b[0;34m.\u001b[0m\u001b[0mevaluate\u001b[0m\u001b[0;34m(\u001b[0m\u001b[0mresult\u001b[0m\u001b[0;34m)\u001b[0m\u001b[0;34m)\u001b[0m\u001b[0;34m\u001b[0m\u001b[0;34m\u001b[0m\u001b[0m\n\u001b[0m",
            "\u001b[0;31mNameError\u001b[0m: name 'result' is not defined"
          ]
        }
      ]
    },
    {
      "cell_type": "code",
      "source": [],
      "metadata": {
        "id": "0SfY_GPsKZxo"
      },
      "execution_count": null,
      "outputs": []
    }
  ]
}